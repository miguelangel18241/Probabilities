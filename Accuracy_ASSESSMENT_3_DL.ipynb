{
  "nbformat": 4,
  "nbformat_minor": 0,
  "metadata": {
    "colab": {
      "provenance": [],
      "authorship_tag": "ABX9TyMO4bdW0Tl/TXf8lClkVmGw",
      "include_colab_link": true
    },
    "kernelspec": {
      "name": "python3",
      "display_name": "Python 3"
    },
    "language_info": {
      "name": "python"
    }
  },
  "cells": [
    {
      "cell_type": "markdown",
      "metadata": {
        "id": "view-in-github",
        "colab_type": "text"
      },
      "source": [
        "<a href=\"https://colab.research.google.com/github/miguelangel18241/Probabilities/blob/main/Accuracy_ASSESSMENT_3_DL.ipynb\" target=\"_parent\"><img src=\"https://colab.research.google.com/assets/colab-badge.svg\" alt=\"Open In Colab\"/></a>"
      ]
    },
    {
      "cell_type": "code",
      "source": [
        "## Code for Accuracy Measurement of the models used in the Computer Vision Project\n",
        "## The confusion matrix and heatmap were useful because they provided detailed insights into the model's performance across different classes,\n",
        "## They highlight both correct classifications, and specific areas of misclassification.\n",
        "\n",
        "from sklearn.metrics import confusion_matrix, accuracy_score\n",
        "import matplotlib.pyplot as plt\n",
        "import seaborn as sns\n",
        "\n",
        "# This function has been created to evaluate the model based on the model and the labels used for classification\n",
        "def evaluate_model(model, x_valid, labels_valid, model_name=\"Model\"):\n",
        "    # Predicting probabilities\n",
        "    preds = model.predict(x_valid)\n",
        "    binary_preds = np.argmax(preds, axis=1)\n",
        "\n",
        "    # Calculating the confusion matrix\n",
        "    cm = confusion_matrix(labels_valid, binary_preds)\n",
        "    print(f\"Confusion Matrix for {model_name}:\")\n",
        "\n",
        "    # Heatmap is being plotted using the following code\n",
        "    plt.figure(figsize=(8, 6))\n",
        "    sns.heatmap(cm, annot=True, fmt='d', cmap='Blues', xticklabels=['Cats', 'Dogs', 'Lions', 'Tigers'], yticklabels=['Cats', 'Dogs', 'Lions', 'Tigers'])\n",
        "    plt.title(f\"Confusion Matrix - {model_name}\")\n",
        "    plt.xlabel('Predicted')\n",
        "    plt.ylabel('Actual')\n",
        "    plt.show()\n",
        "\n",
        "    # Predictions analysis are compared based on the accuracy score of each model:\n",
        "    accuracy = accuracy_score(labels_valid, binary_preds)\n",
        "    print(f\"Accuracy for {model_name}: {accuracy:.2f}\")\n",
        "    print(f\"Mean predicted probability for cats ({model_name}):\", preds[labels_valid == 0].mean(axis=0))\n",
        "    print(f\"Mean predicted probability for dogs ({model_name}):\", preds[labels_valid == 1].mean(axis=0))\n",
        "    print(f\"Mean predicted probability for lions ({model_name}):\", preds[labels_valid == 2].mean(axis=0))\n",
        "    print(f\"Mean predicted probability for tigers ({model_name}):\", preds[labels_valid == 3].mean(axis=0))\n",
        "\n",
        "    return accuracy\n",
        "\n",
        "#Evaluation of every model\n",
        "\n",
        "mlp_accuracy = evaluate_model(model_mlp, x_valid, labels_valid, \"Run of the Mill MLP\")\n",
        "single_conv_accuracy = evaluate_model(conv_model, x_valid, labels_valid, \"Single Convolutional Layer\")\n",
        "bigger_conv_accuracy = evaluate_model(conv_model_bigger, x_valid, labels_valid, \"Bigger Convolutional Model\")\n",
        "huge_conv_accuracy = evaluate_model(huge_conv_model, x_valid, labels_valid, \"Huge Model\")\n",
        "\n",
        "# Comparing Accuracies\n",
        "print(f\"Run of the Mill MLP Accuracy: {mlp_accuracy}\")\n",
        "print(f\"Single Convolutional Layer Accuracy: {single_conv_accuracy}\")\n",
        "print(f\"Bigger Convolutional Model Accuracy: {bigger_conv_accuracy}\")\n",
        "print(f\"Huge Model Accuracy: {huge_conv_accuracy}\")\n"
      ],
      "metadata": {
        "id": "p-0JY6pq-rBu"
      },
      "execution_count": 1,
      "outputs": []
    }
  ]
}