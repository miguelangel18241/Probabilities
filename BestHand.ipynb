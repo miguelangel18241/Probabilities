{
  "nbformat": 4,
  "nbformat_minor": 0,
  "metadata": {
    "colab": {
      "provenance": [],
      "authorship_tag": "ABX9TyMrQLwgkx0OpHfofRnRB61Y",
      "include_colab_link": true
    },
    "kernelspec": {
      "name": "python3",
      "display_name": "Python 3"
    },
    "language_info": {
      "name": "python"
    }
  },
  "cells": [
    {
      "cell_type": "markdown",
      "metadata": {
        "id": "view-in-github",
        "colab_type": "text"
      },
      "source": [
        "<a href=\"https://colab.research.google.com/github/miguelangel18241/Probabilities/blob/main/BestHand.ipynb\" target=\"_parent\"><img src=\"https://colab.research.google.com/assets/colab-badge.svg\" alt=\"Open In Colab\"/></a>"
      ]
    },
    {
      "cell_type": "code",
      "execution_count": 2,
      "metadata": {
        "id": "xwukFt-3Var7"
      },
      "outputs": [],
      "source": [
        "# I wanna know what is the hand that wins the most\n",
        "# MyHand\n",
        "  # Randomly get a pair\n",
        "# Others\n",
        "  # Randomly get 5 more pairs\n",
        "# Flop\n",
        "\n",
        "# Turn\n",
        "\n",
        "# River\n",
        "\n",
        "# What was the best pair on the flop\n",
        "# What was the best pair on the turn\n",
        "# What was the best pair on the river\n"
      ]
    },
    {
      "cell_type": "code",
      "source": [
        "import random\n",
        "import pandas as pd"
      ],
      "metadata": {
        "id": "Or7ZzMmZXNpW"
      },
      "execution_count": 3,
      "outputs": []
    },
    {
      "cell_type": "code",
      "source": [
        "# numbers = [i for i in range(2,11)]\n",
        "\n",
        "# deck_of_cards = []\n",
        "# for letter in letters:\n",
        "#   for number in range(2,11):\n",
        "#     deck_of_cards.append(letter, number)\n",
        "letters = [\"A\", \"J\", \"Q\", \"K\"]\n",
        "suits = [\"S\", \"D\", \"C\", \"H\"]\n",
        "\n",
        "numbers_in_deck = [f\"{number}{suit}\" for suit in suits for number in range(2,11)]\n",
        "letters_in_deck = [f\"{letter}{suit}\" for letter in letters for suit in suits]\n",
        "\n",
        "full_deck = numbers_in_deck + letters_in_deck\n",
        "full_deck"
      ],
      "metadata": {
        "colab": {
          "base_uri": "https://localhost:8080/"
        },
        "id": "bd_09T3yY-Cw",
        "outputId": "8337b883-6201-44d7-80e7-746a194cef79"
      },
      "execution_count": 4,
      "outputs": [
        {
          "output_type": "execute_result",
          "data": {
            "text/plain": [
              "['2S',\n",
              " '3S',\n",
              " '4S',\n",
              " '5S',\n",
              " '6S',\n",
              " '7S',\n",
              " '8S',\n",
              " '9S',\n",
              " '10S',\n",
              " '2D',\n",
              " '3D',\n",
              " '4D',\n",
              " '5D',\n",
              " '6D',\n",
              " '7D',\n",
              " '8D',\n",
              " '9D',\n",
              " '10D',\n",
              " '2C',\n",
              " '3C',\n",
              " '4C',\n",
              " '5C',\n",
              " '6C',\n",
              " '7C',\n",
              " '8C',\n",
              " '9C',\n",
              " '10C',\n",
              " '2H',\n",
              " '3H',\n",
              " '4H',\n",
              " '5H',\n",
              " '6H',\n",
              " '7H',\n",
              " '8H',\n",
              " '9H',\n",
              " '10H',\n",
              " 'AS',\n",
              " 'AD',\n",
              " 'AC',\n",
              " 'AH',\n",
              " 'JS',\n",
              " 'JD',\n",
              " 'JC',\n",
              " 'JH',\n",
              " 'QS',\n",
              " 'QD',\n",
              " 'QC',\n",
              " 'QH',\n",
              " 'KS',\n",
              " 'KD',\n",
              " 'KC',\n",
              " 'KH']"
            ]
          },
          "metadata": {},
          "execution_count": 4
        }
      ]
    },
    {
      "cell_type": "code",
      "source": [
        "from itertools import product\n",
        "\n",
        "letters = [\"A\", \"J\", \"Q\", \"K\"]\n",
        "suits = [\"S\", \"D\", \"C\", \"H\"]\n",
        "\n",
        "# Generate the full deck using itertools.product\n",
        "\n",
        "number_of_players = input(\"How many players today? \")\n",
        "full_deck = [\"\".join(card) for card in product(letters + [str(num) for num in range(2, 11)], suits)]\n",
        "\n",
        "##Cards on the flop\n",
        "flop_turn_river = 5\n",
        "cards_to_be_dealt = flop_turn_river + (int(number_of_players)*2)\n",
        "## List of cards that have been preselected to be dealt + flop + turn + river\n",
        "list_cards_to_be_dealt = [full_deck[random.randint(0,len(full_deck))] for i in range(cards_to_be_dealt)]\n",
        "\n",
        "players_one_hand = [full_deck[random.randint(0,len(full_deck))] for i in range(2)]\n",
        "player_two_hand = []\n",
        "\n",
        "\n",
        "flop = [full_deck[random.randint(0,len(full_deck))] for i in range(3)]\n",
        "print(list_cards_to_be_dealt)\n",
        "# print(f\"\\nThe Player's Hand is: {players_one_hand[0]} and {players_one_hand[1]}.\\n\")\n",
        "\n",
        "\n",
        "\n",
        "##\n",
        "# my_hand ="
      ],
      "metadata": {
        "colab": {
          "base_uri": "https://localhost:8080/"
        },
        "id": "DXQI1m4Fe6NU",
        "outputId": "2bffe1ca-c955-4c77-f932-79cd80961445"
      },
      "execution_count": 5,
      "outputs": [
        {
          "output_type": "stream",
          "name": "stdout",
          "text": [
            "How many players today? 3\n",
            "['JH', 'KD', 'JH', '8S', '9S', '2H', '5C', 'KS', 'AD', '4S', '2C']\n"
          ]
        }
      ]
    },
    {
      "cell_type": "code",
      "source": [
        "import random\n",
        "from itertools import product\n",
        "\n",
        "letters = [\"A\", \"J\", \"Q\", \"K\",\"T\"]\n",
        "suits = [\"S\", \"D\", \"C\", \"H\"]\n",
        "\n",
        "# Generate the full deck using itertools.product\n",
        "full_deck = [\"\".join(card) for card in product(letters + [str(num) for num in range(2, 10)], suits)]\n",
        "\n",
        "\n",
        "flop_turn_river = 5\n",
        "cards_to_be_dealt = flop_turn_river + (int(number_of_players) * 2)\n",
        "\n",
        "# list_cards_to_be_dealt = []\n",
        "# for i in range(cards_to_be_dealt):\n",
        "#     selected_card = random.choice(full_deck)\n",
        "#     list_cards_to_be_dealt.append(selected_card)\n",
        "#     full_deck.remove(selected_card)\n",
        "\n",
        "#This function will take how many players have played, and will print a set of two cards for each player.\n",
        "def deal_them(number_players):\n",
        "    number_players = int(number_players)\n",
        "    player_hands = []\n",
        "    for _ in range(number_players):\n",
        "        player_hand = [random.choice(full_deck) for _ in range(2)]\n",
        "        player_hands.append(player_hand)\n",
        "        for card in player_hand:\n",
        "            full_deck.remove(card)\n",
        "    return player_hands\n",
        "\n",
        "## Print total of the deck\n",
        "print(\"\\nBEFORE THE GAME STARTS, THERE ARE: \", len(full_deck), \"\\n\")\n",
        "\n",
        "flop = []\n",
        "for i in range(3):\n",
        "  flop_card_chosen = random.choice(full_deck)\n",
        "  flop.append(flop_card_chosen)\n",
        "  full_deck.remove(flop_card_chosen)\n",
        "\n",
        "# flop_card_chosen = [random.choice(full_deck) for _ in range(3)]\n",
        "# flop.append(flop_card_chosen)\n",
        "# for card in flop_card_chosen:\n",
        "#   full_deck.remove(card)\n",
        "\n",
        "number_of_players = input(\"How many players today? \")\n",
        "player_hands = deal_them(number_of_players)\n",
        "# print(player_hands)\n",
        "\n",
        "\n",
        "## Print Player's hands.\n",
        "\n",
        "for i in range(int(number_of_players)):\n",
        "  print(f\"Player {i+1} hand is: {player_hands[i]}\")\n",
        "\n",
        "## Print the Flop\n",
        "print(f'The flop is: {flop}')\n",
        "\n",
        "print(\"\\nAFTER PLAYERS HAVE BEEN GIVEN CARDS THERE ARE: \", len(full_deck), \"\\n\")\n",
        "\n",
        "print(\"************************\\n ************************ \\n************************\")\n",
        "\n",
        "\n",
        "##**************************\n",
        "##**************************\n",
        "##**************************\n",
        "##**************************\n",
        "##**************************\n",
        "\n",
        "\n",
        "# player_two_hand = [random.choice(full_deck) for _ in range(2)]\n",
        "# for card in player_two_hand:\n",
        "#     full_deck.remove(card)\n",
        "\n",
        "# flop = [random.choice(full_deck) for _ in range(3)]\n",
        "# for card in flop:\n",
        "#     full_deck.remove(card)\n",
        "\n",
        "# print(\"List of cards to be dealt:\", list_cards_to_be_dealt)\n",
        "# print(\"Player one's hand:\", players_one_hand)\n",
        "# print(\"Player two's hand:\", player_two_hand)\n",
        "# print(\"Flop:\", flop)\n"
      ],
      "metadata": {
        "id": "qKs6bs8DEkpe",
        "colab": {
          "base_uri": "https://localhost:8080/"
        },
        "outputId": "6e554911-5ed0-48d5-bf84-e7853935bc0b"
      },
      "execution_count": 6,
      "outputs": [
        {
          "output_type": "stream",
          "name": "stdout",
          "text": [
            "\n",
            "BEFORE THE GAME STARTS, THERE ARE:  52 \n",
            "\n",
            "How many players today? 3\n",
            "Player 1 hand is: ['AC', '2H']\n",
            "Player 2 hand is: ['5H', '8D']\n",
            "Player 3 hand is: ['KH', 'KC']\n",
            "The flop is: ['8H', '7S', '7H']\n",
            "\n",
            "AFTER PLAYERS HAVE BEEN GIVEN CARDS THERE ARE:  43 \n",
            "\n",
            "************************\n",
            " ************************ \n",
            "************************\n"
          ]
        }
      ]
    },
    {
      "cell_type": "code",
      "source": [
        "import random\n",
        "from itertools import product\n",
        "\n",
        "def deal_cards(number_of_players):\n",
        "  letters = [\"A\", \"J\", \"Q\", \"K\",\"T\"]\n",
        "  suits = [\"S\", \"D\", \"C\", \"H\"]\n",
        "  full_deck = [\"\".join(card) for card in product(letters + [str(num) for num in range(2,10)], suits)]\n",
        "  number_of_players = int(number_of_players)\n",
        "  players_hand = []\n",
        "  for _ in range(number_of_players):\n",
        "    player_hand = [random.choice(full_deck) for _ in range(2)]\n",
        "    players_hand.append(player_hand)\n",
        "    for card in player_hand:\n",
        "      full_deck.remove(card)\n",
        "  return players_hand\n",
        "\n",
        "deal_cards(3)\n",
        "# #This function will take how many players have played, and will print a set of two cards for each player.\n",
        "# def deal_them(number_players):\n",
        "#     number_players = int(number_players)\n",
        "#     player_hands = []\n",
        "#     for _ in range(number_players):\n",
        "#         player_hand = [random.choice(full_deck) for _ in range(2)]\n",
        "#         player_hands.append(player_hand)\n",
        "#         for card in player_hand:\n",
        "#             full_deck.remove(card)\n",
        "#     return player_hands\n",
        "# print(deal_cards(3))\n",
        "\n",
        "\n",
        "\n"
      ],
      "metadata": {
        "colab": {
          "base_uri": "https://localhost:8080/"
        },
        "id": "HvbjWp3me_8c",
        "outputId": "d66f925b-5cd8-4339-86ea-5438436060db"
      },
      "execution_count": 7,
      "outputs": [
        {
          "output_type": "execute_result",
          "data": {
            "text/plain": [
              "[['8S', '4C'], ['AH', '9H'], ['3D', '8D']]"
            ]
          },
          "metadata": {},
          "execution_count": 7
        }
      ]
    },
    {
      "cell_type": "code",
      "source": [
        "import random\n",
        "from itertools import product\n",
        "\n",
        "letters = [\"A\", \"J\", \"Q\", \"K\",\"T\"]\n",
        "suits = [\"S\", \"D\", \"C\", \"H\"]\n",
        "\n",
        "# Generate the full deck using itertools.product\n",
        "full_deck = [\"\".join(card) for card in product(letters + [str(num) for num in range(2, 10)], suits)]\n",
        "\n",
        "\n",
        "flop_turn_river = 5\n",
        "cards_to_be_dealt = flop_turn_river + (int(number_of_players) * 2)\n",
        "\n",
        "# list_cards_to_be_dealt = []\n",
        "# for i in range(cards_to_be_dealt):\n",
        "#     selected_card = random.choice(full_deck)\n",
        "#     list_cards_to_be_dealt.append(selected_card)\n",
        "#     full_deck.remove(selected_card)\n",
        "\n",
        "#This function will take how many players have played, and will print a set of two cards for each player.\n",
        "def deal_them(number_players):\n",
        "    number_players = int(number_players)\n",
        "    player_hands = []\n",
        "    for _ in range(number_players):\n",
        "        player_hand = [random.choice(full_deck) for _ in range(2)]\n",
        "        player_hands.append(player_hand)\n",
        "        for card in player_hand:\n",
        "            full_deck.remove(card)\n",
        "    return player_hands\n",
        "\n",
        "## Print total of the deck\n",
        "print(\"\\nBEFORE THE GAME STARTS, THERE ARE: \", len(full_deck), \"\\n\")\n",
        "\n",
        "flop = []\n",
        "for i in range(3):\n",
        "  flop_card_chosen = random.choice(full_deck)\n",
        "  flop.append(flop_card_chosen)\n",
        "  full_deck.remove(flop_card_chosen)\n",
        "\n",
        "# flop_card_chosen = [random.choice(full_deck) for _ in range(3)]\n",
        "# flop.append(flop_card_chosen)\n",
        "# for card in flop_card_chosen:\n",
        "#   full_deck.remove(card)\n",
        "\n",
        "number_of_players = input(\"How many players today? \")\n",
        "player_hands = deal_them(number_of_players)\n",
        "# print(player_hands)\n",
        "\n",
        "\n",
        "## Print Player's hands.\n",
        "\n",
        "for i in range(int(number_of_players)):\n",
        "  print(f\"Player {i+1} hand is: {player_hands[i]}\")\n",
        "\n",
        "## Print the Flop\n",
        "print(f'The flop is: {flop}')\n",
        "\n",
        "print(\"\\nAFTER PLAYERS HAVE BEEN GIVEN CARDS THERE ARE: \", len(full_deck), \"\\n\")\n",
        "\n",
        "print(\"************************\\n ************************ \\n************************\")\n",
        "\n",
        "\n",
        "##**************************\n",
        "##**************************\n",
        "##**************************\n",
        "##**************************\n",
        "##**************************\n",
        "\n",
        "\n",
        "# player_two_hand = [random.choice(full_deck) for _ in range(2)]\n",
        "# for card in player_two_hand:\n",
        "#     full_deck.remove(card)\n",
        "\n",
        "# flop = [random.choice(full_deck) for _ in range(3)]\n",
        "# for card in flop:\n",
        "#     full_deck.remove(card)\n",
        "\n",
        "# print(\"List of cards to be dealt:\", list_cards_to_be_dealt)\n",
        "# print(\"Player one's hand:\", players_one_hand)\n",
        "# print(\"Player two's hand:\", player_two_hand)\n",
        "# print(\"Flop:\", flop)\n",
        "\n",
        "\n",
        "def winner(player_1, player_2):\n",
        "  rank_1 = player_1[0][0][0]\n",
        "  rank_2 = player_2[0][0][0]\n",
        "\n",
        "  if rank_1 > rank_2:\n",
        "      print(\"Player 1 wins\")\n",
        "  elif rank_1 == rank_2:\n",
        "      print(\"It's a tie\")\n",
        "  else:\n",
        "      print(\"Player 2 wins\")\n",
        "\n",
        "winner_card = winner(player_hands[0], player_hands[1])\n",
        "\n",
        "\n",
        "# winner_card\n",
        "# player_hands\n"
      ],
      "metadata": {
        "id": "G79-HVfuwEa9",
        "colab": {
          "base_uri": "https://localhost:8080/"
        },
        "outputId": "9b883057-cd78-4f14-b61c-ca58d14847ef"
      },
      "execution_count": 8,
      "outputs": [
        {
          "output_type": "stream",
          "name": "stdout",
          "text": [
            "\n",
            "BEFORE THE GAME STARTS, THERE ARE:  52 \n",
            "\n",
            "How many players today? 3\n",
            "Player 1 hand is: ['AD', '4S']\n",
            "Player 2 hand is: ['AC', 'KS']\n",
            "Player 3 hand is: ['KD', 'TC']\n",
            "The flop is: ['8H', 'JS', '2H']\n",
            "\n",
            "AFTER PLAYERS HAVE BEEN GIVEN CARDS THERE ARE:  43 \n",
            "\n",
            "************************\n",
            " ************************ \n",
            "************************\n",
            "It's a tie\n"
          ]
        }
      ]
    },
    {
      "cell_type": "code",
      "source": [
        "# Check against the flop\n",
        "\n",
        "import random\n",
        "from itertools import product\n",
        "\n",
        "letters = [\"A\", \"J\", \"Q\", \"K\",\"T\"]\n",
        "suits = [\"S\", \"D\", \"C\", \"H\"]\n",
        "\n",
        "# Generate the full deck using itertools.product\n",
        "full_deck = [\"\".join(card) for card in product(letters + [str(num) for num in range(2, 10)], suits)]\n",
        "\n",
        "\n",
        "flop_turn_river = 5\n",
        "cards_to_be_dealt = flop_turn_river + (int(number_of_players) * 2)\n",
        "\n",
        "# list_cards_to_be_dealt = []\n",
        "# for i in range(cards_to_be_dealt):\n",
        "#     selected_card = random.choice(full_deck)\n",
        "#     list_cards_to_be_dealt.append(selected_card)\n",
        "#     full_deck.remove(selected_card)\n",
        "\n",
        "#This function will take how many players have played, and will print a set of two cards for each player.\n",
        "def deal_them(number_players):\n",
        "    number_players = int(number_players)\n",
        "    player_hands = []\n",
        "    for _ in range(number_players):\n",
        "        player_hand = [random.choice(full_deck) for _ in range(2)]\n",
        "        player_hands.append(player_hand)\n",
        "        for card in player_hand:\n",
        "            full_deck.remove(card)\n",
        "    return player_hands\n",
        "\n",
        "## Print total of the deck\n",
        "print(\"\\nBEFORE THE GAME STARTS, THERE ARE: \", len(full_deck), \"\\n\")\n",
        "\n",
        "flop = []\n",
        "for i in range(3):\n",
        "  flop_card_chosen = random.choice(full_deck)\n",
        "  flop.append(flop_card_chosen)\n",
        "  full_deck.remove(flop_card_chosen)\n",
        "\n",
        "# flop_card_chosen = [random.choice(full_deck) for _ in range(3)]\n",
        "# flop.append(flop_card_chosen)\n",
        "# for card in flop_card_chosen:\n",
        "#   full_deck.remove(card)\n",
        "\n",
        "number_of_players = input(\"How many players today? \")\n",
        "player_hands = deal_them(number_of_players)\n",
        "# print(player_hands)\n",
        "\n",
        "\n",
        "## Print Player's hands.\n",
        "\n",
        "for i in range(int(number_of_players)):\n",
        "  print(f\"Player {i+1} hand is: {player_hands[i]}\")\n",
        "\n",
        "## Print the Flop\n",
        "print(f'The flop is: {flop}')\n",
        "\n",
        "print(\"\\nAFTER PLAYERS HAVE BEEN GIVEN CARDS THERE ARE: \", len(full_deck), \"\\n\")\n",
        "\n",
        "print(\"************************\\n ************************ \\n************************\")\n",
        "\n",
        "\n",
        "##**************************\n",
        "##**************************\n",
        "##**************************\n",
        "##**************************\n",
        "##**************************\n",
        "\n",
        "\n",
        "# player_two_hand = [random.choice(full_deck) for _ in range(2)]\n",
        "# for card in player_two_hand:\n",
        "#     full_deck.remove(card)\n",
        "\n",
        "# flop = [random.choice(full_deck) for _ in range(3)]\n",
        "# for card in flop:\n",
        "#     full_deck.remove(card)\n",
        "\n",
        "# print(\"List of cards to be dealt:\", list_cards_to_be_dealt)\n",
        "# print(\"Player one's hand:\", players_one_hand)\n",
        "# print(\"Player two's hand:\", player_two_hand)\n",
        "# print(\"Flop:\", flop)\n",
        "\n",
        "\n",
        "# def winner(player_1, player_2):\n",
        "#   rank_1 = player_1[0][0][0]\n",
        "#   rank_2 = player_2[0][0][0]\n",
        "\n",
        "#   if rank_1 > rank_2:\n",
        "#       print(\"Player 1 wins\")\n",
        "#   elif rank_1 == rank_2:\n",
        "#       print(\"It's a tie\")\n",
        "#   else:\n",
        "#       print(\"Player 2 wins\")\n",
        "\n",
        "# winner_card = winner(player_hands[0], player_hands[1])\n",
        "\n",
        "\n"
      ],
      "metadata": {
        "id": "96wcBm81iNzl",
        "colab": {
          "base_uri": "https://localhost:8080/"
        },
        "outputId": "a8c17985-1a38-4aeb-9a3e-ec43d798f8d2"
      },
      "execution_count": 9,
      "outputs": [
        {
          "output_type": "stream",
          "name": "stdout",
          "text": [
            "\n",
            "BEFORE THE GAME STARTS, THERE ARE:  52 \n",
            "\n",
            "How many players today? 3\n",
            "Player 1 hand is: ['5S', 'JH']\n",
            "Player 2 hand is: ['4H', '7S']\n",
            "Player 3 hand is: ['8C', '9C']\n",
            "The flop is: ['TD', 'JS', 'KC']\n",
            "\n",
            "AFTER PLAYERS HAVE BEEN GIVEN CARDS THERE ARE:  43 \n",
            "\n",
            "************************\n",
            " ************************ \n",
            "************************\n"
          ]
        }
      ]
    },
    {
      "cell_type": "code",
      "source": [
        "# full_deck = [\"\".join(card) for card in product(letters + [str(num) for num in range(2,11)],suits)]\n"
      ],
      "metadata": {
        "id": "NN2Wb_uy4DVO"
      },
      "execution_count": 10,
      "outputs": []
    },
    {
      "cell_type": "code",
      "source": [
        "possible_pin = [\"\".join(pin) for pin in product([str(num) for num in range(0,4)], repeat=3)]\n"
      ],
      "metadata": {
        "id": "VpBDyJC68CWp"
      },
      "execution_count": 11,
      "outputs": []
    },
    {
      "cell_type": "code",
      "source": [
        "\n",
        "\n",
        "def deal_cards(number_of_players):\n",
        "  letters = [\"A\", \"J\", \"Q\", \"K\",\"T\"]\n",
        "  suits = [\"S\", \"D\", \"C\", \"H\"]\n",
        "  full_deck = [\"\".join(card) for card in product(letters + [str(num) for num in range(2,10)], suits)]\n",
        "  print(len(full_deck))\n",
        "  number_of_players = int(number_of_players)\n",
        "  players_hand = []\n",
        "  for _ in range(number_of_players):\n",
        "    player_hand = [random.choice(full_deck) for _ in range(2)]\n",
        "    players_hand.append(player_hand)\n",
        "    for card in player_hand:\n",
        "      full_deck.remove(card)\n",
        "  print(len(full_deck))\n",
        "  return players_hand\n",
        "\n",
        "def compare_hands(players):\n",
        "    all_hands = deal_cards(players)\n",
        "    best_first_card = []\n",
        "    for i in range(len(all_hands)):\n",
        "      # for j in range(len(all_hands[i])):\n",
        "\n",
        "        # Extract the first character (rank) of each card and append it to best_first_card\n",
        "      best_first_card.append(all_hands[i][0][0])\n",
        "    print(all_hands)\n",
        "    return best_first_card\n",
        "result_hands = compare_hands(9)\n",
        "cards_sorted = sorted(result_hands,reverse=True)\n",
        "print(cards_sorted)"
      ],
      "metadata": {
        "colab": {
          "base_uri": "https://localhost:8080/"
        },
        "id": "fXp_PVh3Z38B",
        "outputId": "caf1a950-b269-452f-b474-fac35b42a2e6"
      },
      "execution_count": 12,
      "outputs": [
        {
          "output_type": "stream",
          "name": "stdout",
          "text": [
            "52\n",
            "34\n",
            "[['AH', '2S'], ['6H', '5H'], ['KD', 'JS'], ['3C', 'AS'], ['JC', '8C'], ['AC', '2H'], ['2D', '8H'], ['KC', '6S'], ['5S', '6C']]\n",
            "['K', 'K', 'J', 'A', 'A', '6', '5', '3', '2']\n"
          ]
        }
      ]
    },
    {
      "cell_type": "code",
      "source": [
        "import random\n",
        "from itertools import product\n",
        "\n",
        "# Define the rank mapping dictionary\n",
        "rank_mapping = {\n",
        "    'A': 14, 'K': 13, 'Q': 12, 'J': 11, 'T': 10,\n",
        "    '9': 9, '8': 8, '7': 7, '6': 6, '5': 5,\n",
        "    '4': 4, '3': 3, '2': 2\n",
        "}\n",
        "\n",
        "# Define the sorting key function\n",
        "def rank_sort_key(rank):\n",
        "    return rank_mapping[rank[0]]  # Assuming rank is a string, take the first character\n",
        "\n",
        "# Your existing deal_cards function\n",
        "def deal_cards(number_of_players):\n",
        "    letters = [\"A\", \"J\", \"Q\", \"K\", \"T\"]\n",
        "    suits = [\"S\", \"D\", \"C\", \"H\"]\n",
        "    full_deck = [\"\".join(card) for card in product(letters + [str(num) for num in range(2, 10)], suits)]\n",
        "    number_of_players = int(number_of_players)\n",
        "    players_hand = []\n",
        "    for _ in range(number_of_players):\n",
        "        player_hand = [random.choice(full_deck) for _ in range(2)]\n",
        "        players_hand.append(player_hand)\n",
        "        for card in player_hand:\n",
        "            full_deck.remove(card)\n",
        "    return players_hand\n",
        "\n",
        "# Your existing compare_hands function\n",
        "def compare_hands(players):\n",
        "    all_hands = deal_cards(players)\n",
        "    best_first_card = []\n",
        "    for i in range(len(all_hands)):\n",
        "        best_first_card.append(all_hands[i][0][0])  # Assuming rank is the first character\n",
        "    print(all_hands)\n",
        "    print(best_first_card)\n",
        "    return sorted(best_first_card, key=rank_sort_key, reverse=True)\n",
        "\n",
        "# Example usage\n",
        "result_hands = compare_hands(3)\n",
        "print(\"Sorted ranks:\", result_hands)\n",
        "winner = result_hands[0]\n",
        "print(f\"The winner is: {winner}\")\n"
      ],
      "metadata": {
        "colab": {
          "base_uri": "https://localhost:8080/"
        },
        "id": "9DVngnYdimAs",
        "outputId": "52ef08c2-5101-4880-d2ec-4a65bd10abc8"
      },
      "execution_count": 16,
      "outputs": [
        {
          "output_type": "stream",
          "name": "stdout",
          "text": [
            "[['6D', '4D'], ['KC', 'TC'], ['2C', 'JC']]\n",
            "['6', 'K', '2']\n",
            "Sorted ranks: ['K', '6', '2']\n",
            "The winner is: K\n"
          ]
        }
      ]
    }
  ]
}