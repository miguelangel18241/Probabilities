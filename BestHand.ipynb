{
  "nbformat": 4,
  "nbformat_minor": 0,
  "metadata": {
    "colab": {
      "provenance": [],
      "authorship_tag": "ABX9TyOrLQJiJmjyNdEcRtYrbdh2",
      "include_colab_link": true
    },
    "kernelspec": {
      "name": "python3",
      "display_name": "Python 3"
    },
    "language_info": {
      "name": "python"
    }
  },
  "cells": [
    {
      "cell_type": "markdown",
      "metadata": {
        "id": "view-in-github",
        "colab_type": "text"
      },
      "source": [
        "<a href=\"https://colab.research.google.com/github/miguelangel18241/Probabilities/blob/main/BestHand.ipynb\" target=\"_parent\"><img src=\"https://colab.research.google.com/assets/colab-badge.svg\" alt=\"Open In Colab\"/></a>"
      ]
    },
    {
      "cell_type": "code",
      "execution_count": 1,
      "metadata": {
        "id": "xwukFt-3Var7"
      },
      "outputs": [],
      "source": [
        "# I wanna know what is the hand that wins the most\n",
        "# MyHand\n",
        "  # Randomly get a pair\n",
        "# Others\n",
        "  # Randomly get 5 more pairs\n",
        "# Flop\n",
        "\n",
        "# Turn\n",
        "\n",
        "# River\n",
        "\n",
        "# What was the best pair on the flop\n",
        "# What was the best pair on the turn\n",
        "# What was the best pair on the river\n"
      ]
    },
    {
      "cell_type": "code",
      "source": [
        "import random\n",
        "import pandas as pd"
      ],
      "metadata": {
        "id": "Or7ZzMmZXNpW"
      },
      "execution_count": 2,
      "outputs": []
    },
    {
      "cell_type": "code",
      "source": [
        "# numbers = [i for i in range(2,11)]\n",
        "\n",
        "# deck_of_cards = []\n",
        "# for letter in letters:\n",
        "#   for number in range(2,11):\n",
        "#     deck_of_cards.append(letter, number)\n",
        "letters = [\"A\", \"J\", \"Q\", \"K\"]\n",
        "suits = [\"S\", \"D\", \"C\", \"H\"]\n",
        "\n",
        "numbers_in_deck = [f\"{number}{suit}\" for suit in suits for number in range(2,11)]\n",
        "letters_in_deck = [f\"{letter}{suit}\" for letter in letters for suit in suits]\n",
        "\n",
        "full_deck = numbers_in_deck + letters_in_deck\n",
        "full_deck"
      ],
      "metadata": {
        "colab": {
          "base_uri": "https://localhost:8080/"
        },
        "id": "bd_09T3yY-Cw",
        "outputId": "eabdd499-d7bf-4d20-ffe1-008fd43b3423"
      },
      "execution_count": 3,
      "outputs": [
        {
          "output_type": "execute_result",
          "data": {
            "text/plain": [
              "['2S',\n",
              " '3S',\n",
              " '4S',\n",
              " '5S',\n",
              " '6S',\n",
              " '7S',\n",
              " '8S',\n",
              " '9S',\n",
              " '10S',\n",
              " '2D',\n",
              " '3D',\n",
              " '4D',\n",
              " '5D',\n",
              " '6D',\n",
              " '7D',\n",
              " '8D',\n",
              " '9D',\n",
              " '10D',\n",
              " '2C',\n",
              " '3C',\n",
              " '4C',\n",
              " '5C',\n",
              " '6C',\n",
              " '7C',\n",
              " '8C',\n",
              " '9C',\n",
              " '10C',\n",
              " '2H',\n",
              " '3H',\n",
              " '4H',\n",
              " '5H',\n",
              " '6H',\n",
              " '7H',\n",
              " '8H',\n",
              " '9H',\n",
              " '10H',\n",
              " 'AS',\n",
              " 'AD',\n",
              " 'AC',\n",
              " 'AH',\n",
              " 'JS',\n",
              " 'JD',\n",
              " 'JC',\n",
              " 'JH',\n",
              " 'QS',\n",
              " 'QD',\n",
              " 'QC',\n",
              " 'QH',\n",
              " 'KS',\n",
              " 'KD',\n",
              " 'KC',\n",
              " 'KH']"
            ]
          },
          "metadata": {},
          "execution_count": 3
        }
      ]
    },
    {
      "cell_type": "code",
      "source": [
        "from itertools import product\n",
        "\n",
        "letters = [\"A\", \"J\", \"Q\", \"K\"]\n",
        "suits = [\"S\", \"D\", \"C\", \"H\"]\n",
        "\n",
        "# Generate the full deck using itertools.product\n",
        "\n",
        "number_of_players = input(\"How many players today? \")\n",
        "full_deck = [\"\".join(card) for card in product(letters + [str(num) for num in range(2, 11)], suits)]\n",
        "\n",
        "##Cards on the flop\n",
        "flop_turn_river = 5\n",
        "cards_to_be_dealt = flop_turn_river + (int(number_of_players)*2)\n",
        "## List of cards that have been preselected to be dealt + flop + turn + river\n",
        "list_cards_to_be_dealt = [full_deck[random.randint(0,len(full_deck))] for i in range(cards_to_be_dealt)]\n",
        "\n",
        "players_one_hand = [full_deck[random.randint(0,len(full_deck))] for i in range(2)]\n",
        "player_two_hand = []\n",
        "\n",
        "\n",
        "flop = [full_deck[random.randint(0,len(full_deck))] for i in range(3)]\n",
        "print(list_cards_to_be_dealt)\n",
        "# print(f\"\\nThe Player's Hand is: {players_one_hand[0]} and {players_one_hand[1]}.\\n\")\n",
        "\n",
        "\n",
        "\n",
        "##\n",
        "# my_hand ="
      ],
      "metadata": {
        "colab": {
          "base_uri": "https://localhost:8080/"
        },
        "id": "DXQI1m4Fe6NU",
        "outputId": "0aeb637f-b37f-4739-9f11-a1c529bfa7d6"
      },
      "execution_count": 47,
      "outputs": [
        {
          "output_type": "stream",
          "name": "stdout",
          "text": [
            "How many players today? 3\n",
            "['2C', '6D', 'JC', '8S', '10H', 'JS', '4S', '5C', 'JC', 'AD', '3H']\n"
          ]
        }
      ]
    },
    {
      "cell_type": "code",
      "source": [
        "import random\n",
        "from itertools import product\n",
        "\n",
        "letters = [\"A\", \"J\", \"Q\", \"K\"]\n",
        "suits = [\"S\", \"D\", \"C\", \"H\"]\n",
        "\n",
        "# Generate the full deck using itertools.product\n",
        "full_deck = [\"\".join(card) for card in product(letters + [str(num) for num in range(2, 11)], suits)]\n",
        "\n",
        "\n",
        "flop_turn_river = 5\n",
        "cards_to_be_dealt = flop_turn_river + (int(number_of_players) * 2)\n",
        "\n",
        "# list_cards_to_be_dealt = []\n",
        "# for i in range(cards_to_be_dealt):\n",
        "#     selected_card = random.choice(full_deck)\n",
        "#     list_cards_to_be_dealt.append(selected_card)\n",
        "#     full_deck.remove(selected_card)\n",
        "\n",
        "#This function will take how many players have played, and will print a set of two cards for each player.\n",
        "def deal_them(number_players):\n",
        "    number_players = int(number_players)\n",
        "    player_hands = []\n",
        "    for _ in range(number_players):\n",
        "        player_hand = [random.choice(full_deck) for _ in range(2)]\n",
        "        player_hands.append(player_hand)\n",
        "        for card in player_hand:\n",
        "            full_deck.remove(card)\n",
        "    return player_hands\n",
        "\n",
        "## Print total of the deck\n",
        "print(\"\\nBEFORE THE GAME STARTS, THERE ARE: \", len(full_deck), \"\\n\")\n",
        "\n",
        "flop = []\n",
        "for i in range(3):\n",
        "  flop_card_chosen = random.choice(full_deck)\n",
        "  flop.append(flop_card_chosen)\n",
        "  full_deck.remove(flop_card_chosen)\n",
        "\n",
        "# flop_card_chosen = [random.choice(full_deck) for _ in range(3)]\n",
        "# flop.append(flop_card_chosen)\n",
        "# for card in flop_card_chosen:\n",
        "#   full_deck.remove(card)\n",
        "\n",
        "number_of_players = input(\"How many players today? \")\n",
        "player_hands = deal_them(number_of_players)\n",
        "print(player_hands)\n",
        "\n",
        "\n",
        "## Print Player's hands.\n",
        "\n",
        "for i in range(int(number_of_players)):\n",
        "  print(f\"Player {i+1} hand is: {player_hands[i]}\")\n",
        "\n",
        "## Print the Flop\n",
        "print(f'The flop is: {flop}')\n",
        "\n",
        "print(\"\\nAFTER PLAYERS HAVE BEEN GIVEN CARDS THERE ARE: \", len(full_deck), \"\\n\")\n",
        "\n",
        "print(\"************************\\n ************************ \\n************************\")\n",
        "\n",
        "print(flop[0])\n",
        "##**************************\n",
        "##**************************\n",
        "##**************************\n",
        "##**************************\n",
        "##**************************\n",
        "\n",
        "\n",
        "# player_two_hand = [random.choice(full_deck) for _ in range(2)]\n",
        "# for card in player_two_hand:\n",
        "#     full_deck.remove(card)\n",
        "\n",
        "# flop = [random.choice(full_deck) for _ in range(3)]\n",
        "# for card in flop:\n",
        "#     full_deck.remove(card)\n",
        "\n",
        "# print(\"List of cards to be dealt:\", list_cards_to_be_dealt)\n",
        "# print(\"Player one's hand:\", players_one_hand)\n",
        "# print(\"Player two's hand:\", player_two_hand)\n",
        "# print(\"Flop:\", flop)\n"
      ],
      "metadata": {
        "colab": {
          "base_uri": "https://localhost:8080/"
        },
        "id": "qKs6bs8DEkpe",
        "outputId": "44c9a83b-f27f-4c5e-88f2-134f3abb281c"
      },
      "execution_count": 106,
      "outputs": [
        {
          "output_type": "stream",
          "name": "stdout",
          "text": [
            "\n",
            "BEFORE THE GAME STARTS, THERE ARE:  52 \n",
            "\n",
            "How many players today? 4\n",
            "[['JD', '4S'], ['3D', '7H'], ['7C', '5D'], ['4C', '5C']]\n",
            "Player 1 hand is: ['JD', '4S']\n",
            "Player 2 hand is: ['3D', '7H']\n",
            "Player 3 hand is: ['7C', '5D']\n",
            "Player 4 hand is: ['4C', '5C']\n",
            "The flop is: ['2C', '6S', 'QH']\n",
            "\n",
            "AFTER PLAYERS HAVE BEEN GIVEN CARDS THERE ARE:  41 \n",
            "\n",
            "************************\n",
            " ************************ \n",
            "************************\n",
            "2C\n"
          ]
        }
      ]
    },
    {
      "cell_type": "code",
      "source": [
        "# full_deck = [\"\".join(card) for card in product(letters + [str(num) for num in range(2,11)],suits)]\n"
      ],
      "metadata": {
        "id": "NN2Wb_uy4DVO"
      },
      "execution_count": 13,
      "outputs": []
    },
    {
      "cell_type": "code",
      "source": [
        "possible_pin = [\"\".join(pin) for pin in product([str(num) for num in range(0,4)], repeat=3)]\n",
        "possible_pin"
      ],
      "metadata": {
        "colab": {
          "base_uri": "https://localhost:8080/"
        },
        "id": "VpBDyJC68CWp",
        "outputId": "2f5baa91-dccc-4ee4-8082-8b03f46b6e36"
      },
      "execution_count": 86,
      "outputs": [
        {
          "output_type": "execute_result",
          "data": {
            "text/plain": [
              "['000',\n",
              " '001',\n",
              " '002',\n",
              " '003',\n",
              " '010',\n",
              " '011',\n",
              " '012',\n",
              " '013',\n",
              " '020',\n",
              " '021',\n",
              " '022',\n",
              " '023',\n",
              " '030',\n",
              " '031',\n",
              " '032',\n",
              " '033',\n",
              " '100',\n",
              " '101',\n",
              " '102',\n",
              " '103',\n",
              " '110',\n",
              " '111',\n",
              " '112',\n",
              " '113',\n",
              " '120',\n",
              " '121',\n",
              " '122',\n",
              " '123',\n",
              " '130',\n",
              " '131',\n",
              " '132',\n",
              " '133',\n",
              " '200',\n",
              " '201',\n",
              " '202',\n",
              " '203',\n",
              " '210',\n",
              " '211',\n",
              " '212',\n",
              " '213',\n",
              " '220',\n",
              " '221',\n",
              " '222',\n",
              " '223',\n",
              " '230',\n",
              " '231',\n",
              " '232',\n",
              " '233',\n",
              " '300',\n",
              " '301',\n",
              " '302',\n",
              " '303',\n",
              " '310',\n",
              " '311',\n",
              " '312',\n",
              " '313',\n",
              " '320',\n",
              " '321',\n",
              " '322',\n",
              " '323',\n",
              " '330',\n",
              " '331',\n",
              " '332',\n",
              " '333']"
            ]
          },
          "metadata": {},
          "execution_count": 86
        }
      ]
    }
  ]
}