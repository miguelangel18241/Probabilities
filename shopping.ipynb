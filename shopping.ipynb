{
  "nbformat": 4,
  "nbformat_minor": 0,
  "metadata": {
    "colab": {
      "provenance": [],
      "authorship_tag": "ABX9TyMUJaqPaK4ECuBYozOANQyn",
      "include_colab_link": true
    },
    "kernelspec": {
      "name": "python3",
      "display_name": "Python 3"
    },
    "language_info": {
      "name": "python"
    }
  },
  "cells": [
    {
      "cell_type": "markdown",
      "metadata": {
        "id": "view-in-github",
        "colab_type": "text"
      },
      "source": [
        "<a href=\"https://colab.research.google.com/github/miguelangel18241/Probabilities/blob/main/shopping.ipynb\" target=\"_parent\"><img src=\"https://colab.research.google.com/assets/colab-badge.svg\" alt=\"Open In Colab\"/></a>"
      ]
    },
    {
      "cell_type": "code",
      "source": [
        "from google.colab import files\n",
        "import pandas as pd\n",
        "\n",
        "uploaded = files.upload()"
      ],
      "metadata": {
        "id": "jseNlDuaVtfS",
        "colab": {
          "base_uri": "https://localhost:8080/",
          "height": 73
        },
        "outputId": "f8251a03-5918-4146-b865-9d99cdbc5754"
      },
      "execution_count": 4,
      "outputs": [
        {
          "output_type": "display_data",
          "data": {
            "text/plain": [
              "<IPython.core.display.HTML object>"
            ],
            "text/html": [
              "\n",
              "     <input type=\"file\" id=\"files-10449266-8c7a-44dd-a32b-4dbe592a346b\" name=\"files[]\" multiple disabled\n",
              "        style=\"border:none\" />\n",
              "     <output id=\"result-10449266-8c7a-44dd-a32b-4dbe592a346b\">\n",
              "      Upload widget is only available when the cell has been executed in the\n",
              "      current browser session. Please rerun this cell to enable.\n",
              "      </output>\n",
              "      <script>// Copyright 2017 Google LLC\n",
              "//\n",
              "// Licensed under the Apache License, Version 2.0 (the \"License\");\n",
              "// you may not use this file except in compliance with the License.\n",
              "// You may obtain a copy of the License at\n",
              "//\n",
              "//      http://www.apache.org/licenses/LICENSE-2.0\n",
              "//\n",
              "// Unless required by applicable law or agreed to in writing, software\n",
              "// distributed under the License is distributed on an \"AS IS\" BASIS,\n",
              "// WITHOUT WARRANTIES OR CONDITIONS OF ANY KIND, either express or implied.\n",
              "// See the License for the specific language governing permissions and\n",
              "// limitations under the License.\n",
              "\n",
              "/**\n",
              " * @fileoverview Helpers for google.colab Python module.\n",
              " */\n",
              "(function(scope) {\n",
              "function span(text, styleAttributes = {}) {\n",
              "  const element = document.createElement('span');\n",
              "  element.textContent = text;\n",
              "  for (const key of Object.keys(styleAttributes)) {\n",
              "    element.style[key] = styleAttributes[key];\n",
              "  }\n",
              "  return element;\n",
              "}\n",
              "\n",
              "// Max number of bytes which will be uploaded at a time.\n",
              "const MAX_PAYLOAD_SIZE = 100 * 1024;\n",
              "\n",
              "function _uploadFiles(inputId, outputId) {\n",
              "  const steps = uploadFilesStep(inputId, outputId);\n",
              "  const outputElement = document.getElementById(outputId);\n",
              "  // Cache steps on the outputElement to make it available for the next call\n",
              "  // to uploadFilesContinue from Python.\n",
              "  outputElement.steps = steps;\n",
              "\n",
              "  return _uploadFilesContinue(outputId);\n",
              "}\n",
              "\n",
              "// This is roughly an async generator (not supported in the browser yet),\n",
              "// where there are multiple asynchronous steps and the Python side is going\n",
              "// to poll for completion of each step.\n",
              "// This uses a Promise to block the python side on completion of each step,\n",
              "// then passes the result of the previous step as the input to the next step.\n",
              "function _uploadFilesContinue(outputId) {\n",
              "  const outputElement = document.getElementById(outputId);\n",
              "  const steps = outputElement.steps;\n",
              "\n",
              "  const next = steps.next(outputElement.lastPromiseValue);\n",
              "  return Promise.resolve(next.value.promise).then((value) => {\n",
              "    // Cache the last promise value to make it available to the next\n",
              "    // step of the generator.\n",
              "    outputElement.lastPromiseValue = value;\n",
              "    return next.value.response;\n",
              "  });\n",
              "}\n",
              "\n",
              "/**\n",
              " * Generator function which is called between each async step of the upload\n",
              " * process.\n",
              " * @param {string} inputId Element ID of the input file picker element.\n",
              " * @param {string} outputId Element ID of the output display.\n",
              " * @return {!Iterable<!Object>} Iterable of next steps.\n",
              " */\n",
              "function* uploadFilesStep(inputId, outputId) {\n",
              "  const inputElement = document.getElementById(inputId);\n",
              "  inputElement.disabled = false;\n",
              "\n",
              "  const outputElement = document.getElementById(outputId);\n",
              "  outputElement.innerHTML = '';\n",
              "\n",
              "  const pickedPromise = new Promise((resolve) => {\n",
              "    inputElement.addEventListener('change', (e) => {\n",
              "      resolve(e.target.files);\n",
              "    });\n",
              "  });\n",
              "\n",
              "  const cancel = document.createElement('button');\n",
              "  inputElement.parentElement.appendChild(cancel);\n",
              "  cancel.textContent = 'Cancel upload';\n",
              "  const cancelPromise = new Promise((resolve) => {\n",
              "    cancel.onclick = () => {\n",
              "      resolve(null);\n",
              "    };\n",
              "  });\n",
              "\n",
              "  // Wait for the user to pick the files.\n",
              "  const files = yield {\n",
              "    promise: Promise.race([pickedPromise, cancelPromise]),\n",
              "    response: {\n",
              "      action: 'starting',\n",
              "    }\n",
              "  };\n",
              "\n",
              "  cancel.remove();\n",
              "\n",
              "  // Disable the input element since further picks are not allowed.\n",
              "  inputElement.disabled = true;\n",
              "\n",
              "  if (!files) {\n",
              "    return {\n",
              "      response: {\n",
              "        action: 'complete',\n",
              "      }\n",
              "    };\n",
              "  }\n",
              "\n",
              "  for (const file of files) {\n",
              "    const li = document.createElement('li');\n",
              "    li.append(span(file.name, {fontWeight: 'bold'}));\n",
              "    li.append(span(\n",
              "        `(${file.type || 'n/a'}) - ${file.size} bytes, ` +\n",
              "        `last modified: ${\n",
              "            file.lastModifiedDate ? file.lastModifiedDate.toLocaleDateString() :\n",
              "                                    'n/a'} - `));\n",
              "    const percent = span('0% done');\n",
              "    li.appendChild(percent);\n",
              "\n",
              "    outputElement.appendChild(li);\n",
              "\n",
              "    const fileDataPromise = new Promise((resolve) => {\n",
              "      const reader = new FileReader();\n",
              "      reader.onload = (e) => {\n",
              "        resolve(e.target.result);\n",
              "      };\n",
              "      reader.readAsArrayBuffer(file);\n",
              "    });\n",
              "    // Wait for the data to be ready.\n",
              "    let fileData = yield {\n",
              "      promise: fileDataPromise,\n",
              "      response: {\n",
              "        action: 'continue',\n",
              "      }\n",
              "    };\n",
              "\n",
              "    // Use a chunked sending to avoid message size limits. See b/62115660.\n",
              "    let position = 0;\n",
              "    do {\n",
              "      const length = Math.min(fileData.byteLength - position, MAX_PAYLOAD_SIZE);\n",
              "      const chunk = new Uint8Array(fileData, position, length);\n",
              "      position += length;\n",
              "\n",
              "      const base64 = btoa(String.fromCharCode.apply(null, chunk));\n",
              "      yield {\n",
              "        response: {\n",
              "          action: 'append',\n",
              "          file: file.name,\n",
              "          data: base64,\n",
              "        },\n",
              "      };\n",
              "\n",
              "      let percentDone = fileData.byteLength === 0 ?\n",
              "          100 :\n",
              "          Math.round((position / fileData.byteLength) * 100);\n",
              "      percent.textContent = `${percentDone}% done`;\n",
              "\n",
              "    } while (position < fileData.byteLength);\n",
              "  }\n",
              "\n",
              "  // All done.\n",
              "  yield {\n",
              "    response: {\n",
              "      action: 'complete',\n",
              "    }\n",
              "  };\n",
              "}\n",
              "\n",
              "scope.google = scope.google || {};\n",
              "scope.google.colab = scope.google.colab || {};\n",
              "scope.google.colab._files = {\n",
              "  _uploadFiles,\n",
              "  _uploadFilesContinue,\n",
              "};\n",
              "})(self);\n",
              "</script> "
            ]
          },
          "metadata": {}
        },
        {
          "output_type": "stream",
          "name": "stdout",
          "text": [
            "Saving Shopping_Transactions.csv to Shopping_Transactions (2).csv\n"
          ]
        }
      ]
    },
    {
      "cell_type": "code",
      "source": [
        "shopping_transactions = pd.read_csv('Shopping_Transactions.csv')"
      ],
      "metadata": {
        "id": "f015f2ITXPZg"
      },
      "execution_count": 7,
      "outputs": []
    },
    {
      "cell_type": "code",
      "execution_count": 33,
      "metadata": {
        "id": "FJRv1I-9TOxH",
        "colab": {
          "base_uri": "https://localhost:8080/"
        },
        "outputId": "e73cd5cf-fd27-48d5-cf18-0765d557ec2f"
      },
      "outputs": [
        {
          "output_type": "stream",
          "name": "stdout",
          "text": [
            "\n",
            "Menu:\n",
            "1. To Calculate Support\n",
            "2. To Calculate Confidence\n",
            "3. To Exit\n",
            "Enter your choice: 1\n",
            "Enter item or item set: (E.g., 'eggs') mineral water\n",
            "Support: 0.23826666666666665\n",
            "\n",
            "Menu:\n",
            "1. To Calculate Support\n",
            "2. To Calculate Confidence\n",
            "3. To Exit\n",
            "Enter your choice: 2\n",
            "Enter first item or item set, separated by comma: (E.g., 'eggs, bread') mineral water\n",
            "Enter second item or item set, separated by comma: (E.g., 'beer') chocolate\n",
            "Confidence: 0.22104085058757694\n",
            "\n",
            "Menu:\n",
            "1. To Calculate Support\n",
            "2. To Calculate Confidence\n",
            "3. To Exit\n",
            "Enter your choice: e\n",
            "Invalid choice. Please try again.\n",
            "\n",
            "Menu:\n",
            "1. To Calculate Support\n",
            "2. To Calculate Confidence\n",
            "3. To Exit\n",
            "Enter your choice: 3\n",
            "See you next time\n"
          ]
        }
      ],
      "source": [
        "import pandas as pd\n",
        "import time\n",
        "\n",
        "# Function to calculate support of an item or item set\n",
        "def calculate_support(item_set, transactions):\n",
        "    count = 0\n",
        "    for transaction in transactions:\n",
        "        if all(item in transaction for item in item_set):\n",
        "            count += 1\n",
        "    return count / len(transactions)\n",
        "\n",
        "# Function to calculate confidence of an item or item set\n",
        "def calculate_confidence(item_set, consequent, transactions):\n",
        "    count_item_set = 0\n",
        "    count_consequent = 0\n",
        "    for transaction in transactions:\n",
        "        if all(item in transaction for item in item_set):\n",
        "            count_item_set += 1\n",
        "            if all(item in transaction for item in consequent):\n",
        "                count_consequent += 1\n",
        "    return count_consequent / count_item_set if count_item_set > 0 else 0\n",
        "\n",
        "# Read transactions from CSV file\n",
        "def read_transactions(filename):\n",
        "    transactions = []\n",
        "    with open(filename, 'r') as file:\n",
        "        reader = csv.reader(file)\n",
        "        for row in reader:\n",
        "            transactions.append(row[0].split(','))\n",
        "    return transactions\n",
        "\n",
        "# Main function to interact with the user\n",
        "def main():\n",
        "    filename = 'Shopping_Transactions.csv'\n",
        "    shopping_transactions = pd.read_csv(filename)\n",
        "    transactions = shopping_transactions.values.tolist()\n",
        "    while True:\n",
        "        print(\"\\nMenu:\")\n",
        "        print(\"1. To Calculate Support\")\n",
        "        print(\"2. To Calculate Confidence\")\n",
        "        print(\"3. To Exit\")\n",
        "        choice = input(\"Enter your choice: \")\n",
        "\n",
        "        if choice == '1':\n",
        "            item_set = input(\"Enter item or item set: (E.g., 'eggs') \").split(',')\n",
        "            support = calculate_support(item_set, transactions)\n",
        "            print(\"Support:\", support)\n",
        "        elif choice == '2':\n",
        "            # Get the first item or item set\n",
        "            item_set_input = input(\"Enter first item or item set, separated by comma: (E.g., 'eggs, bread') \")\n",
        "            item_set = item_set_input.split(',')\n",
        "\n",
        "            # Get the second item or item set\n",
        "            consequent_input = input(\"Enter second item or item set, separated by comma: (E.g., 'beer') \")\n",
        "            consequent = consequent_input.split(',')\n",
        "\n",
        "            # Calculate confidence\n",
        "            confidence = calculate_confidence(item_set, consequent, transactions)\n",
        "            print(\"Confidence:\", confidence)\n",
        "\n",
        "        elif choice == '3':\n",
        "            # print(\"Exiting...\")\n",
        "            # print(\"See you next time\")\n",
        "\n",
        "\n",
        "            # Blink \"Exiting...\" twice\n",
        "            for _ in range(2):\n",
        "                print(\"\\rExiting...\", end='', flush=True)\n",
        "                time.sleep(0.5)\n",
        "                print(\"\\r          \", end='', flush=True)\n",
        "                time.sleep(0.5)\n",
        "\n",
        "            # Print \"See you next time\"\n",
        "            print(\"\\rSee you next time\")\n",
        "\n",
        "            break\n",
        "        else:\n",
        "            print(\"Invalid choice. Please try again.\")\n",
        "\n",
        "if __name__ == \"__main__\":\n",
        "    main()\n"
      ]
    },
    {
      "cell_type": "code",
      "source": [
        "import pandas as pd\n",
        "\n",
        "# Function to calculate the number of transactions where both \"mineral water\" and \"chocolate\" were bought\n",
        "def count_transactions(transactions):\n",
        "    # Initialize a counter\n",
        "    count = 0\n",
        "\n",
        "    # Iterate through each transaction\n",
        "    for transaction in transactions:\n",
        "        # Check if both \"mineral water\" and \"chocolate\" are present\n",
        "        if \"mineral water\" in transaction and \"chocolate\" in transaction:\n",
        "            # Increment the counter\n",
        "            count += 1\n",
        "\n",
        "    # Return the count\n",
        "    return count\n",
        "\n",
        "if __name__ == \"__main__\":\n",
        "    transactions = shopping_transactions.values.tolist()\n",
        "    count = count_transactions(transactions)\n",
        "    print(\"Number of transactions where both 'mineral water' and 'chocolate' were bought:\", count)\n"
      ],
      "metadata": {
        "colab": {
          "base_uri": "https://localhost:8080/"
        },
        "id": "v2cIW99AlhKD",
        "outputId": "b09a53c3-f4bf-4c7a-8a53-e47307582b40"
      },
      "execution_count": 35,
      "outputs": [
        {
          "output_type": "stream",
          "name": "stdout",
          "text": [
            "Number of transactions where both 'mineral water' and 'chocolate' were bought: 395\n"
          ]
        }
      ]
    },
    {
      "cell_type": "code",
      "source": [
        "import pandas as pd\n",
        "\n",
        "# Assuming 'shopping_transactions' is your DataFrame containing the shopping transactions\n",
        "most_common_item_count = shopping_transactions.stack().value_counts().max()\n",
        "most_common_item = shopping_transactions.stack().value_counts().idxmax()\n",
        "\n",
        "print(\"The most common item is:\", most_common_item)\n",
        "print(\"It appears\", most_common_item_count, \"times.\")\n"
      ],
      "metadata": {
        "colab": {
          "base_uri": "https://localhost:8080/"
        },
        "id": "iCU4L9-nfAt_",
        "outputId": "626ce5b2-98f5-4194-a62e-0b0ce8ad48b6"
      },
      "execution_count": 19,
      "outputs": [
        {
          "output_type": "stream",
          "name": "stdout",
          "text": [
            "The most common item is: mineral water\n",
            "It appears 1787 times.\n"
          ]
        }
      ]
    },
    {
      "cell_type": "code",
      "source": [
        "\n",
        "# Convert the DataFrame to a single series and count the occurrences of each item\n",
        "item_counts = shopping_transactions.stack().value_counts()\n",
        "\n",
        "# Sort the items based on their frequencies in descending order\n",
        "sorted_items = item_counts.sort_values(ascending=False)\n",
        "\n",
        "# Select the top 5 most common items\n",
        "top_5_items = sorted_items.head(5)\n",
        "\n",
        "# Print the top 5 most common items\n",
        "print(\"Top 5 most common items:\")\n",
        "print(top_5_items)\n"
      ],
      "metadata": {
        "colab": {
          "base_uri": "https://localhost:8080/"
        },
        "id": "RLNALSJJfaT4",
        "outputId": "c361abde-8313-4bb0-f393-21310bac063d"
      },
      "execution_count": 23,
      "outputs": [
        {
          "output_type": "stream",
          "name": "stdout",
          "text": [
            "Top 5 most common items:\n",
            "mineral water    1787\n",
            "eggs             1348\n",
            "spaghetti        1306\n",
            "french fries     1282\n",
            "chocolate        1230\n",
            "Name: count, dtype: int64\n"
          ]
        }
      ]
    },
    {
      "cell_type": "code",
      "source": [
        "import pandas as pd\n",
        "\n",
        "# Load the dataset\n",
        "shopping_transactions = pd.read_csv('Shopping_Transactions.csv')\n",
        "\n",
        "# Function to calculate support of an item or itemset\n",
        "def calculate_support(item):\n",
        "    return item_counts[item] / len(shopping_transactions)\n",
        "\n",
        "# Function to calculate confidence between two items or itemsets\n",
        "def calculate_confidence(item_X, item_Y):\n",
        "    if item_X == item_Y:  # Skip calculation if the items are the same\n",
        "        return None\n",
        "    itemset = f\"{item_X},{item_Y}\"\n",
        "    if itemset in item_counts:  # Check if the itemset exists in the DataFrame index\n",
        "        support_XY = item_counts[itemset]\n",
        "        support_X = item_counts[item_X]\n",
        "        return support_XY / support_X\n",
        "    else:\n",
        "        return None\n",
        "\n",
        "# Calculate support for each item in the top 5\n",
        "support_table = pd.DataFrame(index=top_5_items.index, columns=['Support'])\n",
        "for item in top_5_items.index:\n",
        "    support_table.loc[item, 'Support'] = calculate_support(item)\n",
        "\n",
        "# Calculate confidence for each pair of items in the top 5\n",
        "confidence_table = pd.DataFrame(index=top_5_items.index, columns=top_5_items.index)\n",
        "for item_X in top_5_items.index:\n",
        "    for item_Y in top_5_items.index:\n",
        "        confidence_table.loc[item_X, item_Y] = calculate_confidence(item_X, item_Y)\n",
        "\n",
        "# Print support table\n",
        "print(\"Support Table:\")\n",
        "print(support_table)\n",
        "\n",
        "# Print confidence table\n",
        "print(\"\\nConfidence Table:\")\n",
        "print(confidence_table)\n"
      ],
      "metadata": {
        "colab": {
          "base_uri": "https://localhost:8080/"
        },
        "id": "PuMnm89HhfYP",
        "outputId": "c989784b-fa52-4091-a962-ab0d8cc39002"
      },
      "execution_count": 27,
      "outputs": [
        {
          "output_type": "stream",
          "name": "stdout",
          "text": [
            "Support Table:\n",
            "                Support\n",
            "mineral water  0.238267\n",
            "eggs           0.179733\n",
            "spaghetti      0.174133\n",
            "french fries   0.170933\n",
            "chocolate         0.164\n",
            "\n",
            "Confidence Table:\n",
            "              mineral water  eggs spaghetti french fries chocolate\n",
            "mineral water          None  None      None         None      None\n",
            "eggs                   None  None      None         None      None\n",
            "spaghetti              None  None      None         None      None\n",
            "french fries           None  None      None         None      None\n",
            "chocolate              None  None      None         None      None\n"
          ]
        }
      ]
    },
    {
      "cell_type": "code",
      "source": [
        "import pandas as pd\n",
        "\n",
        "# Function to calculate the number of transactions where both \"mineral water\" and a given item were bought\n",
        "def count_transactions_with_both_items(transactions, item1, item2):\n",
        "    # Initialize a counter\n",
        "    count = 0\n",
        "\n",
        "    # Iterate through each transaction\n",
        "    for transaction in transactions:\n",
        "        # Check if both items are present in the transaction\n",
        "        if item1 in transaction and item2 in transaction:\n",
        "            # Increment the counter\n",
        "            count += 1\n",
        "\n",
        "    # Return the count\n",
        "    return count\n",
        "\n",
        "if __name__ == \"__main__\":\n",
        "    # Load the dataset\n",
        "    shopping_transactions = pd.read_csv('Shopping_Transactions.csv')\n",
        "\n",
        "    # Convert the DataFrame to a list of lists\n",
        "    transactions = shopping_transactions.values.tolist()\n",
        "\n",
        "    # List of items to count\n",
        "    items_to_count = [\"mineral water\", \"eggs\", \"spaghetti\", \"french fries\", \"chocolate\"]\n",
        "\n",
        "    # Item1 for the count_transactions_with_both_items function\n",
        "    item1 = \"mineral water\"\n",
        "\n",
        "    # Iterate over each item and count the transactions where both \"mineral water\" and the item were bought\n",
        "    for item2 in items_to_count:\n",
        "        count = count_transactions_with_both_items(transactions, item1, item2)\n",
        "        print(\"Number of transactions where both 'mineral water' and '\", item2, \"' were bought:\", count)\n"
      ],
      "metadata": {
        "colab": {
          "base_uri": "https://localhost:8080/"
        },
        "id": "bk7WNrfwm5e2",
        "outputId": "1102c4ab-3cad-4476-9bf4-3fc12c3f4aa4"
      },
      "execution_count": 37,
      "outputs": [
        {
          "output_type": "stream",
          "name": "stdout",
          "text": [
            "Number of transactions where both 'mineral water' and ' mineral water ' were bought: 1787\n",
            "Number of transactions where both 'mineral water' and ' eggs ' were bought: 382\n",
            "Number of transactions where both 'mineral water' and ' spaghetti ' were bought: 448\n",
            "Number of transactions where both 'mineral water' and ' french fries ' were bought: 253\n",
            "Number of transactions where both 'mineral water' and ' chocolate ' were bought: 395\n"
          ]
        }
      ]
    },
    {
      "cell_type": "code",
      "source": [
        "\n",
        "\n",
        "# Function to calculate the number of transactions where \"mineral water\", \"chocolate\", and \"spaghetti\" were bought together\n",
        "def count_transactions_with_all_items(transactions):\n",
        "    # Initialize a counter\n",
        "    count = 0\n",
        "\n",
        "    # Iterate through each transaction\n",
        "    for transaction in transactions:\n",
        "        # Check if all items are present in the transaction\n",
        "        if \"mineral water\" in transaction and \"chocolate\" in transaction and \"spaghetti\" in transaction:\n",
        "            # Increment the counter\n",
        "            count += 1\n",
        "\n",
        "    # Return the count\n",
        "    return count\n",
        "\n",
        "if __name__ == \"__main__\":\n",
        "    # Load the dataset\n",
        "    shopping_transactions = pd.read_csv('Shopping_Transactions.csv')\n",
        "\n",
        "    # Convert the DataFrame to a list of lists\n",
        "    transactions = shopping_transactions.values.tolist()\n",
        "\n",
        "    # Count the transactions where \"mineral water\", \"chocolate\", and \"spaghetti\" were bought together\n",
        "    count = count_transactions_with_all_items(transactions)\n",
        "    print(\"Number of transactions where 'mineral water', 'chocolate', and 'spaghetti' were bought together:\", count)\n"
      ],
      "metadata": {
        "colab": {
          "base_uri": "https://localhost:8080/"
        },
        "id": "jHcqvrc-ng2n",
        "outputId": "62304793-4f4c-47ab-8286-6b3de8817a68"
      },
      "execution_count": 38,
      "outputs": [
        {
          "output_type": "stream",
          "name": "stdout",
          "text": [
            "Number of transactions where 'mineral water', 'chocolate', and 'spaghetti' were bought together: 119\n"
          ]
        }
      ]
    }
  ]
}