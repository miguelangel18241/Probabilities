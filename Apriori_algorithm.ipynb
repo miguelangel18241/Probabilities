{
  "nbformat": 4,
  "nbformat_minor": 0,
  "metadata": {
    "colab": {
      "provenance": [],
      "authorship_tag": "ABX9TyOO13D2aeE3g34MqFPCCBQh",
      "include_colab_link": true
    },
    "kernelspec": {
      "name": "python3",
      "display_name": "Python 3"
    },
    "language_info": {
      "name": "python"
    }
  },
  "cells": [
    {
      "cell_type": "markdown",
      "metadata": {
        "id": "view-in-github",
        "colab_type": "text"
      },
      "source": [
        "<a href=\"https://colab.research.google.com/github/miguelangel18241/Probabilities/blob/main/Apriori_algorithm.ipynb\" target=\"_parent\"><img src=\"https://colab.research.google.com/assets/colab-badge.svg\" alt=\"Open In Colab\"/></a>"
      ]
    },
    {
      "cell_type": "code",
      "execution_count": null,
      "metadata": {
        "id": "nu_rZpdxiW9O"
      },
      "outputs": [],
      "source": [
        "\n",
        "import pandas as pd\n",
        "import random\n",
        "\n"
      ]
    },
    {
      "cell_type": "code",
      "source": [
        "#Get the list of items\n",
        "#make 5 random transactions\n",
        "items = [\"milk\", \"bread\", \"eggs\", \"coke\", \"beer\", \"diaper\"]\n",
        "\n",
        "unique_random_number = random.sample(range(1,6),3)\n",
        "\n",
        "rule_one = (items[unique_random_number[0]],items[unique_random_number[1]],items[unique_random_number[2]])\n",
        "print(unique_random_number)\n",
        "print(rule_one)\n",
        "\n",
        "\n",
        "items = [\"milk\", \"bread\", \"eggs\", \"coke\", \"beer\", \"diaper\"]\n",
        "\n",
        "# Generate a random sample of 3 unique indices from the range [0, 5]\n",
        "rule_one = random.sample(items, 3)\n",
        "\n",
        "print(rule_one)\n",
        "\n",
        "\n",
        "# Test whether any of the numbers is repeated\n",
        "# for i in range(1,99):\n",
        "#   if len(unique_random_number) == len(set(unique_random_number)):\n",
        "#     print('unique')\n",
        "#   else:\n",
        "#     print('one repeated')\n",
        "\n",
        "# print(f'The item is: {items[unique_random_number[0]]} and the random number to access it is: {unique_random_number[0]}')"
      ],
      "metadata": {
        "colab": {
          "base_uri": "https://localhost:8080/"
        },
        "id": "Dqr7G-IfjKf8",
        "outputId": "2268efdb-9404-446a-84e6-39c84c23ee68"
      },
      "execution_count": null,
      "outputs": [
        {
          "output_type": "stream",
          "name": "stdout",
          "text": [
            "[4, 3, 5]\n",
            "('beer', 'coke', 'diaper')\n"
          ]
        }
      ]
    },
    {
      "cell_type": "markdown",
      "source": [
        "Newly learned shorter way for unique samples.\n"
      ],
      "metadata": {
        "id": "2mzATr85uiTo"
      }
    },
    {
      "cell_type": "code",
      "source": [
        "#items\n",
        "items = [\"milk\", \"bread\", \"eggs\", \"coke\", \"beer\", \"diaper\"]\n",
        "\n",
        "#generate 3 unique numbers and get them from the items as indx\n",
        "candidate_one = tuple(random.sample(items, 3))\n",
        "candidate_one\n"
      ],
      "metadata": {
        "colab": {
          "base_uri": "https://localhost:8080/"
        },
        "id": "zgKqBBFBum--",
        "outputId": "87e26b20-6012-4956-a696-e32c85f77eb0"
      },
      "execution_count": null,
      "outputs": [
        {
          "output_type": "execute_result",
          "data": {
            "text/plain": [
              "('coke', 'milk', 'eggs')"
            ]
          },
          "metadata": {},
          "execution_count": 77
        }
      ]
    },
    {
      "cell_type": "code",
      "source": [
        "\n",
        "# Generate three unique random numbers\n",
        "unique_random_numbers = random.sample(range(1, 6), 3)\n",
        "\n",
        "print(unique_random_numbers)\n"
      ],
      "metadata": {
        "colab": {
          "base_uri": "https://localhost:8080/"
        },
        "id": "tmO_HaHgnpUd",
        "outputId": "6a7c8700-e3e8-4d8e-9aed-5260d9ff7868"
      },
      "execution_count": null,
      "outputs": [
        {
          "output_type": "stream",
          "name": "stdout",
          "text": [
            "[4, 2, 1]\n"
          ]
        }
      ]
    }
  ]
}