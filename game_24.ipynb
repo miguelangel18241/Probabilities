{
  "nbformat": 4,
  "nbformat_minor": 0,
  "metadata": {
    "colab": {
      "provenance": [],
      "authorship_tag": "ABX9TyN0I3Ojpl9HTYy4UKDWSh0/",
      "include_colab_link": true
    },
    "kernelspec": {
      "name": "python3",
      "display_name": "Python 3"
    },
    "language_info": {
      "name": "python"
    }
  },
  "cells": [
    {
      "cell_type": "markdown",
      "metadata": {
        "id": "view-in-github",
        "colab_type": "text"
      },
      "source": [
        "<a href=\"https://colab.research.google.com/github/miguelangel18241/Probabilities/blob/main/game_24.ipynb\" target=\"_parent\"><img src=\"https://colab.research.google.com/assets/colab-badge.svg\" alt=\"Open In Colab\"/></a>"
      ]
    },
    {
      "cell_type": "code",
      "execution_count": 1,
      "metadata": {
        "id": "keOquAawaejp"
      },
      "outputs": [],
      "source": [
        "#Suedocode\n",
        "\n",
        "#randomly show four cards from a deck\n",
        "#"
      ]
    },
    {
      "cell_type": "code",
      "source": [
        "import random\n"
      ],
      "metadata": {
        "id": "HvqprB0cayWy"
      },
      "execution_count": 2,
      "outputs": []
    },
    {
      "cell_type": "code",
      "source": [
        "random_list = []\n",
        "for i in range(0,4):\n",
        "  show = random.randint(1,9)\n",
        "  random_list.append(show)\n",
        "\n",
        "random_list"
      ],
      "metadata": {
        "colab": {
          "base_uri": "https://localhost:8080/"
        },
        "id": "OBILGZpOa5vh",
        "outputId": "0374ccfa-f2d2-4209-dd05-28fe24948218"
      },
      "execution_count": 3,
      "outputs": [
        {
          "output_type": "execute_result",
          "data": {
            "text/plain": [
              "[4, 7, 5, 4]"
            ]
          },
          "metadata": {},
          "execution_count": 3
        }
      ]
    },
    {
      "cell_type": "code",
      "source": [
        "#Check whether the number the user enter is equal to the one randomly generated in the list\n",
        "\n",
        "# index = input(\"Enter an index: \")\n",
        "\n",
        "first_result = random_list[0]-random_list[3]\n",
        "second_result = random_list[1]/random_list[2]\n",
        "third_result = first_result*second_result\n",
        "\n",
        "print(int(third_result))"
      ],
      "metadata": {
        "colab": {
          "base_uri": "https://localhost:8080/"
        },
        "id": "KFs3XzcUcTtd",
        "outputId": "a8db8b7e-6b86-4a71-ce5b-b0f32ff19781"
      },
      "execution_count": 4,
      "outputs": [
        {
          "output_type": "stream",
          "name": "stdout",
          "text": [
            "0\n"
          ]
        }
      ]
    },
    {
      "cell_type": "code",
      "source": [
        "rl = random_list\n",
        "for i in range(0,4):\n",
        "  first = rl[0] + rl[1]\n",
        "  second = rl[2] + rl[3]\n",
        "  third = first + second\n",
        "  print(third)\n"
      ],
      "metadata": {
        "colab": {
          "base_uri": "https://localhost:8080/"
        },
        "id": "RDvAcrPY3Fg3",
        "outputId": "6d42a000-2cb7-4f22-89d0-d60cb53f551f"
      },
      "execution_count": 5,
      "outputs": [
        {
          "output_type": "stream",
          "name": "stdout",
          "text": [
            "20\n",
            "20\n",
            "20\n",
            "20\n"
          ]
        }
      ]
    },
    {
      "cell_type": "code",
      "source": [
        "import random\n",
        "\n",
        "rl = []\n",
        "for i in range(0, 4):\n",
        "    show = random.randint(1, 9)\n",
        "    rl.append(show)\n",
        "\n",
        "def get_it(numbers):\n",
        "    while True:  # You should use True in the while loop and break out of it when condition is met\n",
        "        first = numbers[0] + numbers[1]\n",
        "        second = numbers[2] + numbers[3]\n",
        "        third = first + second\n",
        "        if third == 24:\n",
        "            return third\n",
        "        else:\n",
        "            for i in range(0, 4):\n",
        "                show = random.randint(1, 9)\n",
        "                numbers[i] = show\n",
        "\n",
        "print(rl)\n",
        "print(get_it(rl))\n"
      ],
      "metadata": {
        "colab": {
          "base_uri": "https://localhost:8080/"
        },
        "id": "l5kTSCP041zY",
        "outputId": "ef98f315-2a4c-4bfc-a4d5-281e5cecee7a"
      },
      "execution_count": 6,
      "outputs": [
        {
          "output_type": "stream",
          "name": "stdout",
          "text": [
            "[6, 5, 5, 5]\n",
            "24\n"
          ]
        }
      ]
    },
    {
      "cell_type": "code",
      "source": [
        "import random\n",
        "\n",
        "rl = []\n",
        "for i in range(0, 4):\n",
        "    show = random.randint(1, 9)\n",
        "    rl.append(show)\n",
        "\n",
        "def get_it(numbers):\n",
        "    while True:  # You should use True in the while loop and break out of it when condition is met\n",
        "        first = numbers[0] + numbers[1]\n",
        "        second = numbers[2] + numbers[3]\n",
        "        third = first + second\n",
        "        if third == 24:\n",
        "            return third\n",
        "\n",
        "\n",
        "print(rl)\n",
        "print(get_it(rl))\n"
      ],
      "metadata": {
        "colab": {
          "base_uri": "https://localhost:8080/",
          "height": 323
        },
        "id": "D0ckPMW19HT6",
        "outputId": "0b9d051a-a103-4d4f-f36e-8a45e4b61f16"
      },
      "execution_count": 7,
      "outputs": [
        {
          "output_type": "stream",
          "name": "stdout",
          "text": [
            "[6, 6, 9, 4]\n"
          ]
        },
        {
          "output_type": "error",
          "ename": "KeyboardInterrupt",
          "evalue": "",
          "traceback": [
            "\u001b[0;31m---------------------------------------------------------------------------\u001b[0m",
            "\u001b[0;31mKeyboardInterrupt\u001b[0m                         Traceback (most recent call last)",
            "\u001b[0;32m<ipython-input-7-6429de67bbd5>\u001b[0m in \u001b[0;36m<cell line: 18>\u001b[0;34m()\u001b[0m\n\u001b[1;32m     16\u001b[0m \u001b[0;34m\u001b[0m\u001b[0m\n\u001b[1;32m     17\u001b[0m \u001b[0mprint\u001b[0m\u001b[0;34m(\u001b[0m\u001b[0mrl\u001b[0m\u001b[0;34m)\u001b[0m\u001b[0;34m\u001b[0m\u001b[0;34m\u001b[0m\u001b[0m\n\u001b[0;32m---> 18\u001b[0;31m \u001b[0mprint\u001b[0m\u001b[0;34m(\u001b[0m\u001b[0mget_it\u001b[0m\u001b[0;34m(\u001b[0m\u001b[0mrl\u001b[0m\u001b[0;34m)\u001b[0m\u001b[0;34m)\u001b[0m\u001b[0;34m\u001b[0m\u001b[0;34m\u001b[0m\u001b[0m\n\u001b[0m",
            "\u001b[0;32m<ipython-input-7-6429de67bbd5>\u001b[0m in \u001b[0;36mget_it\u001b[0;34m(numbers)\u001b[0m\n\u001b[1;32m     11\u001b[0m         \u001b[0msecond\u001b[0m \u001b[0;34m=\u001b[0m \u001b[0mnumbers\u001b[0m\u001b[0;34m[\u001b[0m\u001b[0;36m2\u001b[0m\u001b[0;34m]\u001b[0m \u001b[0;34m+\u001b[0m \u001b[0mnumbers\u001b[0m\u001b[0;34m[\u001b[0m\u001b[0;36m3\u001b[0m\u001b[0;34m]\u001b[0m\u001b[0;34m\u001b[0m\u001b[0;34m\u001b[0m\u001b[0m\n\u001b[1;32m     12\u001b[0m         \u001b[0mthird\u001b[0m \u001b[0;34m=\u001b[0m \u001b[0mfirst\u001b[0m \u001b[0;34m+\u001b[0m \u001b[0msecond\u001b[0m\u001b[0;34m\u001b[0m\u001b[0;34m\u001b[0m\u001b[0m\n\u001b[0;32m---> 13\u001b[0;31m         \u001b[0;32mif\u001b[0m \u001b[0mthird\u001b[0m \u001b[0;34m==\u001b[0m \u001b[0;36m24\u001b[0m\u001b[0;34m:\u001b[0m\u001b[0;34m\u001b[0m\u001b[0;34m\u001b[0m\u001b[0m\n\u001b[0m\u001b[1;32m     14\u001b[0m             \u001b[0;32mreturn\u001b[0m \u001b[0mthird\u001b[0m\u001b[0;34m\u001b[0m\u001b[0;34m\u001b[0m\u001b[0m\n\u001b[1;32m     15\u001b[0m \u001b[0;34m\u001b[0m\u001b[0m\n",
            "\u001b[0;31mKeyboardInterrupt\u001b[0m: "
          ]
        }
      ]
    },
    {
      "cell_type": "code",
      "source": [
        "import random\n",
        "import time\n",
        "\n",
        "# Prompt the user for an index\n",
        "index = input(\"Enter an index: \")\n",
        "\n",
        "# Convert the input to an integer\n",
        "index = int(index)\n",
        "\n",
        "rl = []\n",
        "for i in range(0, 4):\n",
        "    show = random.randint(1, 9)\n",
        "    rl.append(show)\n",
        "\n",
        "def get_it(numbers):\n",
        "  start_time = time.time()  # Record the start time\n",
        "  while True:\n",
        "      # Generate new random numbers\n",
        "\n",
        "      # Calculate the sum of the first two numbers and the sum of the last two numbers\n",
        "      first = numbers[0] + numbers[1]\n",
        "      second = numbers[2] + numbers[3]\n",
        "\n",
        "      # Check if the sum equals 24\n",
        "      if first + second == 24:\n",
        "        end_time = time.time() #This records the end time\n",
        "        return numbers, end_time - start_time # This records the total time it took to complete the finding of #24\n",
        "      else:\n",
        "        for i in range(0,4):\n",
        "          show = random.randint(1, 9)\n",
        "          numbers[i] = show\n",
        "\n",
        "\n",
        "\n",
        "# Call the function and print the result\n",
        "result, elapsed_time = get_it(rl)\n",
        "print(\"Numbers that sum up to 24:\", result)\n",
        "print(\"Time taken:\", elapsed_time, \"seconds\")\n",
        "\n",
        "\n"
      ],
      "metadata": {
        "id": "IwxhRM9vBEC3"
      },
      "execution_count": null,
      "outputs": []
    },
    {
      "cell_type": "code",
      "source": [
        "#promt the user to enter four numbers from 1 to 9 separated by a comma\n",
        "\n",
        "# rl = []\n",
        "# for i in range(0, 4):\n",
        "#     show = random.randint(1, 9)\n",
        "#     rl.append(show)\n",
        "\n",
        "def get_it(numbers):\n",
        "  start_time = time.time()  # Record the start time\n",
        "  while True:\n",
        "      # Generate new random numbers\n",
        "\n",
        "      # Calculate the sum of the first two numbers and the sum of the last two numbers\n",
        "      first = numbers[0] + numbers[1]\n",
        "      second = numbers[2] + numbers[3]\n",
        "\n",
        "      # Check if the sum equals 24\n",
        "      if first + second == 24:\n",
        "        end_time = time.time() #This records the end time\n",
        "        return numbers, end_time - start_time # This records the total time it took to complete the finding of #24\n",
        "      else:\n",
        "        print(f'Your numbers {numbers} do not sum up 24.')\n",
        "        return None, None\n",
        "      # else:\n",
        "      #   for i in range(0,4):\n",
        "      #     show = random.randint(1, 9)\n",
        "      #     numbers[i] = show\n",
        "\n",
        "\n",
        "user_input = input(\"Enter 4 numbers from 1 to 9 separated by a comma: \")\n",
        "rl = [int(num) for num in user_input.split(',')]\n",
        "\n",
        "# Call the function and print the result\n",
        "result, elapsed_time = get_it(rl)\n",
        "print(\"Numbers that sum up to 24:\", result)\n",
        "print(\"Time taken:\", elapsed_time, \"seconds\")\n"
      ],
      "metadata": {
        "id": "dUGTpaYbKDLc"
      },
      "execution_count": null,
      "outputs": []
    },
    {
      "cell_type": "code",
      "source": [
        "import itertools\n"
      ],
      "metadata": {
        "id": "YWnm6NAuVEYl"
      },
      "execution_count": 8,
      "outputs": []
    },
    {
      "cell_type": "code",
      "source": [
        "\n",
        "random_numbers = [random.randint(1,9) for _ in range(4)]\n",
        "permutations = itertools.permutations(random_numbers)\n",
        "\n",
        "#print random numbers\n",
        "print(\"Random numbers: \", random_numbers)\n",
        "#print permutations and their sum\n",
        "print(\"Permutations and their sum: \")\n",
        "count = 0\n",
        "for perm in permutations:\n",
        "  perm_sum = sum(perm)\n",
        "  count = count+1\n",
        "  print(f\"{perm} (Sum:{perm_sum})\")\n",
        "print(f'Total possible permutations is: {count}')"
      ],
      "metadata": {
        "id": "_W5mKoHSVWB-"
      },
      "execution_count": null,
      "outputs": []
    },
    {
      "cell_type": "code",
      "source": [
        "print((random_list[3] - random_list[2])*(random_list[0]-random_list[1]))"
      ],
      "metadata": {
        "id": "NSuMLo0vcpco"
      },
      "execution_count": null,
      "outputs": []
    },
    {
      "cell_type": "code",
      "source": [
        "#generate the random numbers\n",
        "random_numbers = [random.randint(1,9) for _ in range(4)]\n",
        "#apply permutation to the list\n",
        "permutations = itertools.permutations(random_numbers)\n",
        "\n",
        "#print random numbers\n",
        "print(\"Random numbers: \", random_numbers)\n",
        "count = 0\n",
        "for perm in permutations:\n",
        "  count = count + 1\n",
        "  perm_sum = sum(perm)\n",
        "  print(f\"Permutation # {count}: {perm} sum is: {perm_sum}\")\n",
        "print(count)\n",
        "\n",
        "def get_it(numbers):\n",
        "  start_time = time.time()  # Record the start time\n",
        "  while True:\n",
        "      # Generate new random numbers\n",
        "\n",
        "      # Calculate the sum of the first two numbers and the sum of the last two numbers\n",
        "      first = numbers[0] + numbers[1]\n",
        "      second = numbers[2] + numbers[3]\n",
        "\n",
        "      # Check if the sum equals 24\n",
        "      if first + second == 24:\n",
        "        end_time = time.time() #This records the end time\n",
        "        return numbers, end_time - start_time # This records the total time it took to complete the finding of #24\n",
        "      else:\n",
        "        print(f'Your numbers {numbers} do not sum up 24.')\n",
        "        return None, None\n",
        "      # else:\n",
        "      #   for i in range(0,4):\n",
        "      #     show = random.randint(1, 9)\n",
        "      #     numbers[i] = show\n",
        "\n",
        "\n",
        "user_input = input(\"Enter 4 numbers from 1 to 9 separated by a comma: \")\n",
        "rl = [int(num) for num in user_input.split(',')]\n",
        "\n",
        "# Call the function and print the result\n",
        "result, elapsed_time = get_it(rl)\n",
        "print(\"Numbers that sum up to 24:\", result)\n",
        "print(\"Time taken:\", elapsed_time, \"seconds\")\n"
      ],
      "metadata": {
        "colab": {
          "base_uri": "https://localhost:8080/"
        },
        "id": "yfiazBxhKCqX",
        "outputId": "5ba690b1-ae82-4823-aea2-80ce14310514"
      },
      "execution_count": 21,
      "outputs": [
        {
          "output_type": "stream",
          "name": "stdout",
          "text": [
            "Random numbers:  [8, 8, 2, 9]\n",
            "Permutation # 1: (8, 8, 2, 9) sum is: 27\n",
            "Permutation # 2: (8, 8, 9, 2) sum is: 27\n",
            "Permutation # 3: (8, 2, 8, 9) sum is: 27\n",
            "Permutation # 4: (8, 2, 9, 8) sum is: 27\n",
            "Permutation # 5: (8, 9, 8, 2) sum is: 27\n",
            "Permutation # 6: (8, 9, 2, 8) sum is: 27\n",
            "Permutation # 7: (8, 8, 2, 9) sum is: 27\n",
            "Permutation # 8: (8, 8, 9, 2) sum is: 27\n",
            "Permutation # 9: (8, 2, 8, 9) sum is: 27\n",
            "Permutation # 10: (8, 2, 9, 8) sum is: 27\n",
            "Permutation # 11: (8, 9, 8, 2) sum is: 27\n",
            "Permutation # 12: (8, 9, 2, 8) sum is: 27\n",
            "Permutation # 13: (2, 8, 8, 9) sum is: 27\n",
            "Permutation # 14: (2, 8, 9, 8) sum is: 27\n",
            "Permutation # 15: (2, 8, 8, 9) sum is: 27\n",
            "Permutation # 16: (2, 8, 9, 8) sum is: 27\n",
            "Permutation # 17: (2, 9, 8, 8) sum is: 27\n",
            "Permutation # 18: (2, 9, 8, 8) sum is: 27\n",
            "Permutation # 19: (9, 8, 8, 2) sum is: 27\n",
            "Permutation # 20: (9, 8, 2, 8) sum is: 27\n",
            "Permutation # 21: (9, 8, 8, 2) sum is: 27\n",
            "Permutation # 22: (9, 8, 2, 8) sum is: 27\n",
            "Permutation # 23: (9, 2, 8, 8) sum is: 27\n",
            "Permutation # 24: (9, 2, 8, 8) sum is: 27\n",
            "24\n"
          ]
        }
      ]
    },
    {
      "cell_type": "code",
      "source": [
        "import pygame\n",
        "import random\n",
        "import os\n",
        "\n",
        "# Initialize Pygame\n",
        "pygame.init()\n",
        "\n",
        "# Set the screen dimensions\n",
        "SCREEN_WIDTH = 800\n",
        "SCREEN_HEIGHT = 600\n",
        "screen = pygame.display.set_mode((SCREEN_WIDTH, SCREEN_HEIGHT))\n",
        "pygame.display.set_caption(\"Random Cards\")\n",
        "\n",
        "# Function to load card images\n",
        "def load_cards():\n",
        "    cards = []\n",
        "    directory = \"card_images\"  # Directory containing card images\n",
        "    for filename in os.listdir(directory):\n",
        "        if filename.endswith(\".png\"):\n",
        "            card = pygame.image.load(os.path.join(directory, filename))\n",
        "            cards.append(card)\n",
        "    return cards\n",
        "\n",
        "# Function to select four random cards\n",
        "def select_random_cards(cards):\n",
        "    return random.sample(cards, 4)\n",
        "\n",
        "# Main function to display random cards\n",
        "def main():\n",
        "    cards = load_cards()\n",
        "    running = True\n",
        "    clock = pygame.time.Clock()\n",
        "\n",
        "    while running:\n",
        "        for event in pygame.event.get():\n",
        "            if event.type == pygame.QUIT:\n",
        "                running = False\n",
        "\n",
        "        screen.fill((255, 255, 255))\n",
        "\n",
        "        # Select four random cards\n",
        "        selected_cards = select_random_cards(cards)\n",
        "\n",
        "        # Display the selected cards\n",
        "        card_width = cards[0].get_width()\n",
        "        for i, card in enumerate(selected_cards):\n",
        "            screen.blit(card, (i * (card_width + 20), 200))\n",
        "\n",
        "        pygame.display.flip()\n",
        "        clock.tick(30)\n",
        "\n",
        "    pygame.quit()\n",
        "\n",
        "if __name__ == \"__main__\":\n",
        "    main()\n"
      ],
      "metadata": {
        "id": "BcsyOe7ZdJJ6"
      },
      "execution_count": null,
      "outputs": []
    }
  ]
}